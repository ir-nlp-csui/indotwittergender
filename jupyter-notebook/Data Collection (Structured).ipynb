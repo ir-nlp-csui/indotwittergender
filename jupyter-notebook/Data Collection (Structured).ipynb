{
 "cells": [
  {
   "cell_type": "markdown",
   "id": "9b3c3f13",
   "metadata": {},
   "source": [
    "# Install library"
   ]
  },
  {
   "cell_type": "code",
   "execution_count": null,
   "id": "dde69ff8",
   "metadata": {},
   "outputs": [],
   "source": [
    "!pip install tweepy\n",
    "!pip install pandas\n",
    "!pip install openpyxl"
   ]
  },
  {
   "cell_type": "markdown",
   "id": "b2e79c75",
   "metadata": {},
   "source": [
    "# Import library"
   ]
  },
  {
   "cell_type": "code",
   "execution_count": 4,
   "id": "6d71d113",
   "metadata": {},
   "outputs": [],
   "source": [
    "import tweepy\n",
    "import pandas as pd\n",
    "pd.set_option('max_colwidth', 1000)\n",
    "import re\n",
    "\n",
    "consumer_key = ''\n",
    "consumer_secret = ''\n",
    "access_token = ''\n",
    "access_token_secret = ''\n",
    "\n",
    "def authenticate(consumer_key, consumer_secret, access_token, access_token_secret):\n",
    "    auth = tweepy.OAuthHandler(consumer_key, consumer_secret)\n",
    "    auth.set_access_token(access_token, access_token_secret)\n",
    "    api = tweepy.API(auth)\n",
    "    return api\n",
    "\n",
    "api = authenticate(consumer_key, consumer_secret, access_token, access_token_secret)"
   ]
  },
  {
   "cell_type": "markdown",
   "id": "0654ffd3",
   "metadata": {},
   "source": [
    "# Main"
   ]
  },
  {
   "cell_type": "code",
   "execution_count": 7,
   "id": "cd3d1778",
   "metadata": {},
   "outputs": [
    {
     "name": "stderr",
     "output_type": "stream",
     "text": [
      "/tmp/ipykernel_4561/2696095732.py:4: FutureWarning: The frame.append method is deprecated and will be removed from pandas in a future version. Use pandas.concat instead.\n",
      "  df_prof = df_prof.append({\n"
     ]
    },
    {
     "data": {
      "text/html": [
       "<div>\n",
       "<style scoped>\n",
       "    .dataframe tbody tr th:only-of-type {\n",
       "        vertical-align: middle;\n",
       "    }\n",
       "\n",
       "    .dataframe tbody tr th {\n",
       "        vertical-align: top;\n",
       "    }\n",
       "\n",
       "    .dataframe thead th {\n",
       "        text-align: right;\n",
       "    }\n",
       "</style>\n",
       "<table border=\"1\" class=\"dataframe\">\n",
       "  <thead>\n",
       "    <tr style=\"text-align: right;\">\n",
       "      <th></th>\n",
       "      <th>profile_background_color</th>\n",
       "      <th>profile_link_color</th>\n",
       "      <th>profile_sidebar_border_color</th>\n",
       "      <th>profile_sidebar_fill_color</th>\n",
       "      <th>profile_text_color</th>\n",
       "      <th>bio</th>\n",
       "      <th>name</th>\n",
       "      <th>username</th>\n",
       "      <th>followers</th>\n",
       "      <th>friends_count</th>\n",
       "      <th>listed_count</th>\n",
       "      <th>favourites_count</th>\n",
       "      <th>statuses_count</th>\n",
       "      <th>protected</th>\n",
       "    </tr>\n",
       "  </thead>\n",
       "  <tbody>\n",
       "    <tr>\n",
       "      <th>0</th>\n",
       "      <td>352726</td>\n",
       "      <td>D02B55</td>\n",
       "      <td>829D5E</td>\n",
       "      <td>99CC33</td>\n",
       "      <td>3E4415</td>\n",
       "      <td>Governor of West Java. Broadcaster of Daily Happiness</td>\n",
       "      <td>Ridwan Kamil</td>\n",
       "      <td>ridwankamil</td>\n",
       "      <td>4974848</td>\n",
       "      <td>2842</td>\n",
       "      <td>1547</td>\n",
       "      <td>22037</td>\n",
       "      <td>43924</td>\n",
       "      <td>False</td>\n",
       "    </tr>\n",
       "  </tbody>\n",
       "</table>\n",
       "</div>"
      ],
      "text/plain": [
       "  profile_background_color profile_link_color profile_sidebar_border_color  \\\n",
       "0                   352726             D02B55                       829D5E   \n",
       "\n",
       "  profile_sidebar_fill_color profile_text_color  \\\n",
       "0                     99CC33             3E4415   \n",
       "\n",
       "                                                     bio          name  \\\n",
       "0  Governor of West Java. Broadcaster of Daily Happiness  Ridwan Kamil   \n",
       "\n",
       "      username  followers  friends_count  listed_count  favourites_count  \\\n",
       "0  ridwankamil    4974848           2842          1547             22037   \n",
       "\n",
       "   statuses_count  protected  \n",
       "0           43924      False  "
      ]
     },
     "execution_count": 7,
     "metadata": {},
     "output_type": "execute_result"
    }
   ],
   "source": [
    "df_prof = pd.DataFrame()\n",
    "username = 'ridwankamil'\n",
    "acc = api.get_user(screen_name=username)\n",
    "df_prof = df_prof.append({\n",
    "    'profile_background_color': acc._json['profile_background_color'],\n",
    "    'profile_link_color': acc._json['profile_link_color'],\n",
    "    'profile_sidebar_border_color': acc._json['profile_sidebar_border_color'],\n",
    "    'profile_sidebar_fill_color': acc._json['profile_sidebar_fill_color'],\n",
    "    'profile_text_color': acc._json['profile_text_color'],\n",
    "    \n",
    "    'bio': re.sub(r'\\n', ' ', acc._json['description']),\n",
    "    'name': acc._json['name'],\n",
    "    'username': acc._json['screen_name'],\n",
    "    'followers': acc._json['followers_count'],\n",
    "    'friends_count': acc._json['friends_count'],\n",
    "    'listed_count': acc._json['listed_count'],\n",
    "    'favourites_count': acc._json['favourites_count'],\n",
    "    'statuses_count': acc._json['statuses_count'],\n",
    "    'protected': acc._json['protected']\n",
    "}, ignore_index=True)\n",
    "df_prof.to_excel('../example-data/df_structured.xlsx'.format(username), index=False)\n",
    "df_prof"
   ]
  },
  {
   "cell_type": "code",
   "execution_count": null,
   "id": "c7365f7e",
   "metadata": {},
   "outputs": [],
   "source": []
  }
 ],
 "metadata": {
  "kernelspec": {
   "display_name": "Python 3 (ipykernel)",
   "language": "python",
   "name": "python3"
  },
  "language_info": {
   "codemirror_mode": {
    "name": "ipython",
    "version": 3
   },
   "file_extension": ".py",
   "mimetype": "text/x-python",
   "name": "python",
   "nbconvert_exporter": "python",
   "pygments_lexer": "ipython3",
   "version": "3.10.4"
  }
 },
 "nbformat": 4,
 "nbformat_minor": 5
}
