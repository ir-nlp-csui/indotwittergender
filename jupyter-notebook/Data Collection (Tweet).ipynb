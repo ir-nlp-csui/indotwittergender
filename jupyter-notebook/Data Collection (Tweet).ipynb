{
 "cells": [
  {
   "cell_type": "markdown",
   "id": "27f38569",
   "metadata": {},
   "source": [
    "# Install library"
   ]
  },
  {
   "cell_type": "code",
   "execution_count": null,
   "id": "1f4b0d27",
   "metadata": {},
   "outputs": [],
   "source": [
    "!pip install --user --upgrade git+https://github.com/twintproject/twint.git@origin/master#egg=twint"
   ]
  },
  {
   "cell_type": "markdown",
   "id": "773f57cd",
   "metadata": {},
   "source": [
    "# Import library"
   ]
  },
  {
   "cell_type": "code",
   "execution_count": 3,
   "id": "3ca8d760",
   "metadata": {},
   "outputs": [],
   "source": [
    "import twint\n",
    "import nest_asyncio\n",
    "\n",
    "nest_asyncio.apply()"
   ]
  },
  {
   "cell_type": "code",
   "execution_count": 13,
   "id": "afafa44c",
   "metadata": {},
   "outputs": [
    {
     "name": "stdout",
     "output_type": "stream",
     "text": [
      "1543580963183415296 2022-07-03 21:02:34 +0800 <ngiqiq> @arifrabbani_ Bikin akun anon donk\n",
      "1543544334976712704 2022-07-03 18:37:01 +0800 <ngiqiq> @syikidaw Mantaaaaffff, ceplak cepluk 💦\n",
      "1543468650598113281 2022-07-03 13:36:17 +0800 <ngiqiq> @syikidaw Mantiipzzz di mana ini cuyung????\n",
      "1543408719740178432 2022-07-03 09:38:08 +0800 <ngiqiq> @iniakuenun Abis itu \"Di, lu laper engga? Gue order ini ya\" atau engga \"Di, HS yuk\"\n",
      "1543406165849440260 2022-07-03 09:27:59 +0800 <ngiqiq> @iniakuenun HAHAHAAH kita mah 10% belajar 10% karakoean 10% gibah 70% cekikikan\n",
      "1542310220776767489 2022-06-30 08:53:06 +0800 <ngiqiq> @dioclaudio18 Gaaaz\n",
      "1539402969778917376 2022-06-22 08:20:43 +0800 <ngiqiq> @syikidaw Hue sakit apa cuyuuung? Gwsssss\n",
      "1533812328529285121 2022-06-06 22:05:30 +0800 <ngiqiq> @ochroooo Unccccccccccch, bergetar hatiku saat ku berkenalan dengannya 💃\n",
      "1533784245478785027 2022-06-06 20:13:55 +0800 <ngiqiq> @vykid Uncccch, soju dulu sayang\n",
      "1528730169464082433 2022-05-23 21:30:49 +0800 <ngiqiq> @albenft ngefans kali\n",
      "1528258897500602369 2022-05-22 14:18:09 +0800 <ngiqiq> @iniakuenun @tangytan9erine Lgs radang besoknya kalau gorengan\n",
      "1527080349821726720 2022-05-19 08:15:01 +0800 <ngiqiq> @pakcikbdil @khadchy @irulchazi 🙏\n",
      "1526528743019532288 2022-05-17 19:43:08 +0800 <ngiqiq> @hafizhrafizal @avrotech NGAKAAAAAAAAAAAAK 😂😂😂\n",
      "1526528542095208449 2022-05-17 19:42:20 +0800 <ngiqiq> @puuuukpuka @albenft TBL TBL TBL TAQOET BANGED LHOOOOO\n",
      "1525234228488998912 2022-05-14 05:59:12 +0800 <ngiqiq> @avrotech  https://t.co/ostbmJWzCs\n",
      "1524264437922017280 2022-05-11 13:45:36 +0800 <ngiqiq> @albenft @iniakuenun @tangytan9erine Mohon maaf lahir batin gaes\n",
      "1522768410996002816 2022-05-07 10:40:55 +0800 <ngiqiq> @tangytan9erine @iniakuenun Apakah Anda sedang kesepian? Jgn lupa utk berdzikir. InsyaAllah 🙏\n",
      "1519055373231353856 2022-04-27 04:46:38 +0800 <ngiqiq> @velta__ Assalamualaikum, lagi sedih Velta?\n",
      "1518677775695364096 2022-04-26 03:46:12 +0800 <ngiqiq> @ibaadee @tangytan9erine InsyaAllah Tatan dapat bahagia, menjadi manusia seutuhnya, terhindar dari depresi 🙏\n",
      "1518375380050399232 2022-04-25 07:44:35 +0800 <ngiqiq> @tangytan9erine Mau gue kasih rekomendasi Tan? Yg sholeh dan peduli dengan sesama manusia. InsyaAllah 🙏\n",
      "1516782278751391748 2022-04-20 22:14:10 +0800 <ngiqiq> @mrlogix terima kasih Pak Fariz, sangat bersyukur saya dibimbing skripsi sama Bapak\n",
      "1514689857167462400 2022-04-15 03:39:38 +0800 <ngiqiq> @albenft  https://t.co/kC4kRxHtsK\n",
      "1514599118580383750 2022-04-14 21:39:04 +0800 <ngiqiq> @albenft hide dlu lah tweetnya dari orgnya\n",
      "1494562693788831746 2022-02-18 14:41:28 +0800 <ngiqiq> @khadchy Yuhuuu, sama2 Buuun 😝😝😝\n",
      "1494258780694925320 2022-02-17 18:33:49 +0800 <ngiqiq> @silviaatar Duuuh babe connecting my friends yaaah, WAKAKAKAK\n",
      "1491031209165475847 2022-02-08 20:48:36 +0800 <ngiqiq> @ibnusfirdaus_ Tp berat badan sulit negatif\n",
      "1491031022292828160 2022-02-08 20:47:52 +0800 <ngiqiq> @mgilangjanuar Wkwkw 💯💯💯, keep safe Laaang\n",
      "1491025651037401088 2022-02-08 20:26:31 +0800 <ngiqiq> Alhamdulillah negatif. 😭😭😭. Omicron naik2nya pas musim ujan tuh 😈😈😈\n",
      "1489862420679987203 2022-02-05 15:24:16 +0800 <ngiqiq> @khadchy  https://t.co/j5qPLYhh1i\n",
      "1486000995293601793 2022-01-25 23:40:20 +0800 <ngiqiq> @hafizhrafizal wkwkw bener sih ya, mana WFH di rumah saja\n",
      "1485845892393758720 2022-01-25 13:24:01 +0800 <ngiqiq> di umur segni, gen kurus gue dah habis atau gimana ya 😂\n",
      "1485592930043973635 2022-01-24 20:38:50 +0800 <ngiqiq> @dioclaudio18 Halo Kautsar\n",
      "1483400795743989763 2022-01-18 19:28:04 +0800 <ngiqiq> @tangytan9erine WAKAKAKAA KEPIKIRAN AJA LU TAAN, NGAKAAAK\n",
      "1483345604365656064 2022-01-18 15:48:45 +0800 <ngiqiq> @albenft @oddikbar W3W\n",
      "1479307098919866369 2022-01-07 12:21:11 +0800 <ngiqiq> @ayshzkh @albenft Hahahahaa, ngakak banget sih, Astagfirullah\n",
      "1477679133849051138 2022-01-03 00:32:14 +0800 <ngiqiq> @tangytan9erine Cakep banget progress barnya Tan\n",
      "1476052504202727429 2021-12-29 12:48:35 +0800 <ngiqiq> @albenft HAHAHAHAH, tercyduuuk\n",
      "1475833212781809666 2021-12-28 22:17:12 +0800 <ngiqiq> @albenft Kopkeeeeeen ngga peliiit kek yg laiiiin, gelasnya gedeeeeee. ❤️ kopken\n",
      "1474344003139035141 2021-12-24 19:39:36 +0800 <ngiqiq> keren banget narasinya:  https://t.co/S6T3ULIv5g\n",
      "1473217559998521345 2021-12-21 17:03:32 +0800 <ngiqiq> @mrqorib @albenft Qoriiib mau donk belajaaaaaaaar lgggggggggg, WKWKWKWK\n",
      "1473190999908225026 2021-12-21 15:17:59 +0800 <ngiqiq> @albenft Siniiiiiiiii\n",
      "1467891088471908354 2021-12-07 00:18:02 +0800 <ngiqiq> Ngecek rekening, LHAAAA tinggal 13 rb aja. HAHAHAHAHAHAHAHA. Untung ngga dipake utk bayar debit di indomaret\n",
      "1467407743434706944 2021-12-05 16:17:23 +0800 <ngiqiq> Ya Allah ni dataset, kok banyak akun buzzer\n",
      "1466083667701161986 2021-12-02 00:35:59 +0800 <ngiqiq> @albenft @taylorswift13 @Spotify Anjaay Swifties\n",
      "1463477574563086339 2021-11-24 20:00:18 +0800 <ngiqiq> @albenft @mrqorib @ayshzkh @asepwhite Ya Allah, gue bru follow Qorib, halo Qorib\n",
      "1463448401803055105 2021-11-24 18:04:23 +0800 <ngiqiq> @ayshzkh @albenft @asepwhite Halo teman2 indomaretqqqqq\n",
      "1460424167686238209 2021-11-16 09:47:09 +0800 <ngiqiq> @dityaayunatalia WKWKWK, belajar dlu ilmunya Diiiit\n",
      "1460424076028092417 2021-11-16 09:46:47 +0800 <ngiqiq> @vykid hoalaaah, mantaaap, semangaaat, biar tidak ngantuk2 club di siang hari ya\n",
      "1460255082755203074 2021-11-15 22:35:16 +0800 <ngiqiq> @vykid Kok kek di ASBI Nooov, wowkwowkkk\n",
      "1460252445062303745 2021-11-15 22:24:47 +0800 <ngiqiq> ternyata jasa edit sound bisa semahal itu ya :((\n",
      "1459106911723216901 2021-11-12 18:32:51 +0800 <ngiqiq> @ibnusfirdaus_ Awokwowkaokk\n",
      "1454820413272248336 2021-10-31 22:39:50 +0800 <ngiqiq> @salsanads Wkwkw, maapkeeun Saaal, TikTok gue pakai cuman utk stalk\n",
      "1454611686128685058 2021-10-31 08:50:26 +0800 <ngiqiq> @salsanads Pargoooyyyy? Partaii goyang Saaaal?\n",
      "1453031310046294018 2021-10-27 00:10:34 +0800 <ngiqiq> @iniakuenun @rthajeng Yaaah, ngga jd hamil\n",
      "1451820197807996935 2021-10-23 15:58:03 +0800 <ngiqiq> @asetianingrm @rzhr Di sini aku menunggumu dan bertanyaaaa ~~~\n",
      "1446461197172162565 2021-10-08 21:03:18 +0800 <ngiqiq> Gila si abis vaksin, kalau ad yg nyenggol tangan kiri gue, bsa dhuaaaaar\n",
      "1444280029152628739 2021-10-02 20:36:07 +0800 <ngiqiq> DI MANA NEH TANAH DENGAN HARGA MEREEENG?\n",
      "1437973590104629249 2021-09-15 10:56:34 +0800 <ngiqiq> @RIDHAULIA Happy birthday Riiiidh, wish u all the besssst 🎉🎉🎉\n",
      "1435936701386350602 2021-09-09 20:02:42 +0800 <ngiqiq> @khadchy @ulat_bulu_bulu WKWKWK knp si kucing oren selalu banyak tingkah\n",
      "1435908530297466884 2021-09-09 18:10:46 +0800 <ngiqiq> @khadchy @naufalabdila @irulchazi @ld_ode WKWKWKW, halo sobat sambaaat\n",
      "1435411286716665859 2021-09-08 09:14:54 +0800 <ngiqiq> @WadaNiswah Aamiin, thank u yung\n",
      "1435217509913747456 2021-09-07 20:24:54 +0800 <ngiqiq> @WadaNiswah Beneeeer cuyuuung. Alhamdulillah\n",
      "1435196701606703112 2021-09-07 19:02:12 +0800 <ngiqiq> @WadaNiswah Uddddh, cicilan rumaaah  https://t.co/uEP9Svfd9n\n",
      "1435195488970571784 2021-09-07 18:57:23 +0800 <ngiqiq> @WadaNiswah Baliiik, tp msh super lama, wkwkwk\n",
      "1435032348613959683 2021-09-07 08:09:08 +0800 <ngiqiq> @WadaNiswah Dukun blom beranak, ku baik cuyuuuung, baik2 di sanaaa 💃\n",
      "1434875433250525188 2021-09-06 21:45:36 +0800 <ngiqiq> @WadaNiswah WKWKW gue balik, lu dah bahagia dgn yg lain cuyuuung\n",
      "1434713538497433601 2021-09-06 11:02:17 +0800 <ngiqiq> @WadaNiswah  https://t.co/ifciOfmPvu\n",
      "1434713389809299459 2021-09-06 11:01:42 +0800 <ngiqiq> @dityaayunatalia Wkwkw liburan Diiit, akhir januari ada libur panjang\n",
      "1434532376013537285 2021-09-05 23:02:25 +0800 <ngiqiq> @WadaNiswah buanglah pada tempatnya\n",
      "1434447934926442500 2021-09-05 17:26:53 +0800 <ngiqiq> Bismillah Makassar 🙏\n",
      "1434446573291798533 2021-09-05 17:21:28 +0800 <ngiqiq> @ryntcrss @IzzanFI @iniakuenun HAHAHA jalan takdirrrr sudah terlihaat\n",
      "1434442284146184200 2021-09-05 17:04:25 +0800 <ngiqiq> @iniakuenun Wkwkw, the next Aynun\n",
      "1433060677296406529 2021-09-01 21:34:25 +0800 <ngiqiq> @albenft Welcome to quarter life crisis crisis club\n",
      "1430761145602772993 2021-08-26 13:16:54 +0800 <ngiqiq> @aimabdhakim  https://t.co/aDTYFRjoZ9\n",
      "1430729988664283139 2021-08-26 11:13:05 +0800 <ngiqiq> @avrotech @prakashdivyy Ada @albenft sebelum suka jajan kue cubit\n",
      "1429781971027128320 2021-08-23 20:26:00 +0800 <ngiqiq> Sejahtera di dunia dan golden ticket ke neraka 👍\n",
      "1428655493904408576 2021-08-20 17:49:47 +0800 <ngiqiq> @mgilangjanuar kamu siapaaaaa kamu siapaaaaa\n",
      "1428652016297906182 2021-08-20 17:35:58 +0800 <ngiqiq> email tuh bsa dicek kek ngecek nomor hp pakai getcontact gt ngga si?\n",
      "1428600933496201218 2021-08-20 14:12:59 +0800 <ngiqiq> @asepwhite a\n",
      "1428462649377914885 2021-08-20 05:03:29 +0800 <ngiqiq> @awwawaan thank u Waaanzzz, u too\n"
     ]
    },
    {
     "name": "stdout",
     "output_type": "stream",
     "text": [
      "[!] No more data! Scraping will stop now.\n",
      "found 0 deleted tweets in this search.\n"
     ]
    }
   ],
   "source": [
    "username = 'ngiqiq'\n",
    "c = twint.Config()\n",
    "c.Username = username\n",
    "c.Limit = 3000\n",
    "c.Store_csv = True\n",
    "c.Output = '{}.csv'.format(username)\n",
    "c.Hide_output = False\n",
    "\n",
    "twint.run.Search(c)"
   ]
  },
  {
   "cell_type": "code",
   "execution_count": null,
   "id": "6cfe1077",
   "metadata": {},
   "outputs": [],
   "source": []
  }
 ],
 "metadata": {
  "kernelspec": {
   "display_name": "Python 3 (ipykernel)",
   "language": "python",
   "name": "python3"
  },
  "language_info": {
   "codemirror_mode": {
    "name": "ipython",
    "version": 3
   },
   "file_extension": ".py",
   "mimetype": "text/x-python",
   "name": "python",
   "nbconvert_exporter": "python",
   "pygments_lexer": "ipython3",
   "version": "3.10.4"
  }
 },
 "nbformat": 4,
 "nbformat_minor": 5
}
